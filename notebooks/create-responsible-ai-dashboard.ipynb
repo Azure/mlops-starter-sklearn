{
  "cells": [
    {
      "cell_type": "code",
      "source": [
        "# 実行する AML workspace の情報を設定\r\n",
        "subscription_id = \"\"\r\n",
        "resource_group = \"\"\r\n",
        "workspace = \"\"\r\n",
        "\r\n",
        "rai_diabetes_regression_example_version_string = \"1\""
      ],
      "outputs": [],
      "execution_count": 66,
      "metadata": {
        "jupyter": {
          "source_hidden": false,
          "outputs_hidden": false
        },
        "nteract": {
          "transient": {
            "deleting": false
          }
        },
        "gather": {
          "logged": 1672477533184
        }
      }
    },
    {
      "cell_type": "code",
      "source": [
        "import json\r\n",
        "from azure.ai.ml import dsl, Input\r\n",
        "from azure.ai.ml.constants import AssetTypes\r\n",
        "from azure.ai.ml import MLClient\r\n",
        "from azure.identity import DefaultAzureCredential"
      ],
      "outputs": [],
      "execution_count": 67,
      "metadata": {
        "jupyter": {
          "source_hidden": false,
          "outputs_hidden": false
        },
        "nteract": {
          "transient": {
            "deleting": false
          }
        },
        "gather": {
          "logged": 1672477533396
        }
      }
    },
    {
      "cell_type": "code",
      "source": [
        "credential = DefaultAzureCredential()\r\n",
        "ml_client = MLClient(\r\n",
        "    credential=credential,\r\n",
        "    subscription_id=subscription_id,\r\n",
        "    resource_group_name=resource_group,\r\n",
        "    workspace_name=workspace,\r\n",
        ")\r\n",
        "print(ml_client)"
      ],
      "outputs": [
        {
          "output_type": "stream",
          "name": "stdout",
          "text": "MLClient(credential=<azure.identity._credentials.default.DefaultAzureCredential object at 0x7f17980eb4f0>,\n         subscription_id=27a05524-7a59-453b-88d7-df3ebaa2bcc1,\n         resource_group_name=azuremlytate081922,\n         workspace_name=azuremlwsytate081922)\n"
        }
      ],
      "execution_count": 68,
      "metadata": {
        "jupyter": {
          "source_hidden": false,
          "outputs_hidden": false
        },
        "nteract": {
          "transient": {
            "deleting": false
          }
        },
        "gather": {
          "logged": 1672477533664
        }
      }
    },
    {
      "cell_type": "code",
      "source": [
        "# RAI 組み込みコンポーネントの azureml レジストリへのハンドルを取得\r\n",
        "registry_name = \"azureml\"\r\n",
        "ml_client_registry = MLClient(\r\n",
        "    credential=credential,\r\n",
        "    subscription_id=subscription_id,\r\n",
        "    resource_group_name=resource_group,\r\n",
        "    registry_name=registry_name,\r\n",
        ")\r\n",
        "print(ml_client_registry)"
      ],
      "outputs": [
        {
          "output_type": "stream",
          "name": "stdout",
          "text": "MLClient(credential=<azure.identity._credentials.default.DefaultAzureCredential object at 0x7f17980eb4f0>,\n         subscription_id=6c6683e9-e5fe-4038-8519-ce6ebec2ba15,\n         resource_group_name=registry-builtin-prod-eastus-01,\n         workspace_name=None)\n"
        }
      ],
      "execution_count": 69,
      "metadata": {
        "jupyter": {
          "source_hidden": false,
          "outputs_hidden": false
        },
        "nteract": {
          "transient": {
            "deleting": false
          }
        },
        "gather": {
          "logged": 1672477534177
        }
      }
    },
    {
      "cell_type": "code",
      "source": [
        "from azure.ai.ml.entities import Data\r\n",
        "from azure.ai.ml.constants import AssetTypes\r\n",
        "\r\n",
        "train_data_path = \"../data/mltable/train/\"\r\n",
        "test_data_path = \"../data/mltable/test/\"\r\n",
        "input_train_data = \"nyc_taxi_train_mltable_dataset\"\r\n",
        "input_test_data = \"nyc_taxi_test_mltable_dataset\"\r\n",
        "\r\n",
        "# train, test のデータアセットがなければ作成\r\n",
        "try:\r\n",
        "    train_data = ml_client.data.get(\r\n",
        "        name=input_train_data, version=rai_diabetes_regression_example_version_string\r\n",
        "    )\r\n",
        "    test_data = ml_client.data.get(\r\n",
        "        name=input_test_data, version=rai_diabetes_regression_example_version_string\r\n",
        "    )\r\n",
        "except Exception as e:\r\n",
        "    train_data = Data(\r\n",
        "        path=train_data_path,\r\n",
        "        type=AssetTypes.MLTABLE,\r\n",
        "        description=\"RAI diabetes regression example training data\",\r\n",
        "        name=input_train_data,\r\n",
        "        version=rai_diabetes_regression_example_version_string,\r\n",
        "    )\r\n",
        "    ml_client.data.create_or_update(train_data)\r\n",
        "\r\n",
        "    test_data = Data(\r\n",
        "        path=test_data_path,\r\n",
        "        type=AssetTypes.MLTABLE,\r\n",
        "        description=\"RAI diabetes regression example test data\",\r\n",
        "        name=input_test_data,\r\n",
        "        version=rai_diabetes_regression_example_version_string,\r\n",
        "    )\r\n",
        "    ml_client.data.create_or_update(test_data)"
      ],
      "outputs": [],
      "execution_count": 70,
      "metadata": {
        "jupyter": {
          "source_hidden": false,
          "outputs_hidden": false
        },
        "nteract": {
          "transient": {
            "deleting": false
          }
        },
        "gather": {
          "logged": 1672477534382
        }
      }
    },
    {
      "cell_type": "code",
      "source": [],
      "outputs": [],
      "execution_count": null,
      "metadata": {
        "jupyter": {
          "source_hidden": false,
          "outputs_hidden": false
        },
        "nteract": {
          "transient": {
            "deleting": false
          }
        },
        "gather": {
          "logged": 1672469603345
        }
      }
    },
    {
      "cell_type": "code",
      "source": [
        "model_name = \"nyc_taxi_mlflow_rai\"\r\n",
        "compute_name = \"cpu-cluster\"\r\n",
        "target_column_name = \"totalAmount\"\r\n",
        "model_name_suffix = 4\r\n",
        "expected_model_id = f\"{model_name}:{model_name_suffix}\"\r\n",
        "azureml_model_id = f\"azureml:{expected_model_id}\"\r\n",
        "programmers_train_mltable = Input(\r\n",
        "    type=\"mltable\",\r\n",
        "    path=f\"azureml:nyc_taxi_train_mltable_dataset:1\",\r\n",
        "    mode=\"download\",\r\n",
        ")\r\n",
        "programmers_test_mltable = Input(\r\n",
        "    type=\"mltable\",\r\n",
        "    path=f\"azureml:nyc_taxi_test_mltable_dataset:1\",\r\n",
        "    mode=\"download\",\r\n",
        ")"
      ],
      "outputs": [],
      "execution_count": 71,
      "metadata": {
        "jupyter": {
          "source_hidden": false,
          "outputs_hidden": false
        },
        "nteract": {
          "transient": {
            "deleting": false
          }
        },
        "gather": {
          "logged": 1672477534500
        }
      }
    },
    {
      "cell_type": "code",
      "source": [
        "label = \"latest\"\r\n",
        "\r\n",
        "# 最新バージョンのコンポーネントを取得\r\n",
        "rai_constructor_component = ml_client_registry.components.get(\r\n",
        "    name=\"microsoft_azureml_rai_tabular_insight_constructor\", label=label\r\n",
        ")\r\n",
        "\r\n",
        "version = rai_constructor_component.version\r\n",
        "print(\"The current version of RAI built-in components is: \" + version)\r\n",
        "\r\n",
        "rai_explanation_component = ml_client_registry.components.get(\r\n",
        "    name=\"microsoft_azureml_rai_tabular_explanation\", version=version\r\n",
        ")\r\n",
        "\r\n",
        "rai_causal_component = ml_client_registry.components.get(\r\n",
        "    name=\"microsoft_azureml_rai_tabular_causal\", version=version\r\n",
        ")\r\n",
        "\r\n",
        "rai_counterfactual_component = ml_client_registry.components.get(\r\n",
        "    name=\"microsoft_azureml_rai_tabular_counterfactual\", version=version\r\n",
        ")\r\n",
        "\r\n",
        "rai_erroranalysis_component = ml_client_registry.components.get(\r\n",
        "    name=\"microsoft_azureml_rai_tabular_erroranalysis\", version=version\r\n",
        ")\r\n",
        "\r\n",
        "rai_gather_component = ml_client_registry.components.get(\r\n",
        "    name=\"microsoft_azureml_rai_tabular_insight_gather\", version=version\r\n",
        ")\r\n",
        "\r\n",
        "rai_scorecard_component = ml_client_registry.components.get(\r\n",
        "    name=\"microsoft_azureml_rai_tabular_score_card\", version=version\r\n",
        ")"
      ],
      "outputs": [
        {
          "output_type": "stream",
          "name": "stdout",
          "text": "The current version of RAI built-in components is: 0.4.0\n"
        }
      ],
      "execution_count": 72,
      "metadata": {
        "jupyter": {
          "source_hidden": false,
          "outputs_hidden": false
        },
        "nteract": {
          "transient": {
            "deleting": false
          }
        },
        "gather": {
          "logged": 1672477537043
        }
      }
    },
    {
      "cell_type": "code",
      "source": [
        "# RAI パイプラインを構築\r\n",
        "\r\n",
        "categorical_columns = json.dumps(\r\n",
        "    [\"vendorID\", \"passengerCount\"]\r\n",
        ")\r\n",
        "treatment_features = json.dumps([\"lpepPickupDatetime\", \"tripDistance\", \"pickupLongitude\", \"pickupLatitude\", \"dropoffLongitude\", \"dropoffLatitude\"])\r\n",
        "desired_range = json.dumps([0, 290])\r\n",
        "filter_columns = json.dumps([])\r\n",
        "\r\n",
        "\r\n",
        "@dsl.pipeline(\r\n",
        "    compute=compute_name,\r\n",
        "    experiment_name=f\"rai_pipeline_nyc_taxi\",\r\n",
        ")\r\n",
        "def rai_pipeline_nyc_taxi(\r\n",
        "    target_column_name,\r\n",
        "    train_data,\r\n",
        "    test_data\r\n",
        "):\r\n",
        "    # RAIInsights を開始\r\n",
        "    create_rai_job = rai_constructor_component(\r\n",
        "        title=\"RAI Dashboard Example\",\r\n",
        "        task_type=\"regression\",\r\n",
        "        model_info=expected_model_id,\r\n",
        "        model_input=Input(type=AssetTypes.MLFLOW_MODEL, path=azureml_model_id),\r\n",
        "        train_dataset=train_data,\r\n",
        "        test_dataset=test_data,\r\n",
        "        target_column_name=target_column_name,\r\n",
        "        categorical_column_names=categorical_columns,\r\n",
        "    )\r\n",
        "    create_rai_job.set_limits(timeout=120)\r\n",
        "\r\n",
        "    # モデルの説明を追加\r\n",
        "    explain_job = rai_explanation_component(\r\n",
        "        rai_insights_dashboard=create_rai_job.outputs.rai_insights_dashboard,\r\n",
        "        comment=\"My comment\",\r\n",
        "    )\r\n",
        "    explain_job.set_limits(timeout=120)\r\n",
        "\r\n",
        "    # 因果分析を追加\r\n",
        "    causal_job = rai_causal_component(\r\n",
        "        rai_insights_dashboard=create_rai_job.outputs.rai_insights_dashboard,\r\n",
        "        treatment_features=treatment_features,\r\n",
        "    )\r\n",
        "    causal_job.set_limits(timeout=180)\r\n",
        "\r\n",
        "    # 反事実分析を追加\r\n",
        "    counterfactual_job = rai_counterfactual_component(\r\n",
        "        rai_insights_dashboard=create_rai_job.outputs.rai_insights_dashboard,\r\n",
        "        total_cfs=10,\r\n",
        "        desired_range=desired_range,\r\n",
        "    )\r\n",
        "    counterfactual_job.set_limits(timeout=600)\r\n",
        "\r\n",
        "    # エラー分析を追加\r\n",
        "    erroranalysis_job = rai_erroranalysis_component(\r\n",
        "        rai_insights_dashboard=create_rai_job.outputs.rai_insights_dashboard,\r\n",
        "        filter_features=filter_columns,\r\n",
        "    )\r\n",
        "    erroranalysis_job.set_limits(timeout=120)\r\n",
        "\r\n",
        "    # すべてを組み合わせ\r\n",
        "    rai_gather_job = rai_gather_component(\r\n",
        "        constructor=create_rai_job.outputs.rai_insights_dashboard,\r\n",
        "        insight_1=explain_job.outputs.explanation,\r\n",
        "        insight_2=causal_job.outputs.causal,\r\n",
        "        insight_3=counterfactual_job.outputs.counterfactual,\r\n",
        "        insight_4=erroranalysis_job.outputs.error_analysis,\r\n",
        "    )\r\n",
        "    rai_gather_job.set_limits(timeout=120)\r\n",
        "\r\n",
        "    rai_gather_job.outputs.dashboard.mode = \"upload\"\r\n",
        "    rai_gather_job.outputs.ux_json.mode = \"upload\"\r\n",
        "\r\n",
        "    return {\r\n",
        "        \"dashboard\": rai_gather_job.outputs.dashboard,\r\n",
        "        \"ux_json\": rai_gather_job.outputs.ux_json\r\n",
        "    }"
      ],
      "outputs": [],
      "execution_count": 73,
      "metadata": {
        "jupyter": {
          "source_hidden": false,
          "outputs_hidden": false
        },
        "nteract": {
          "transient": {
            "deleting": false
          }
        },
        "gather": {
          "logged": 1672477537218
        }
      }
    },
    {
      "cell_type": "code",
      "source": [
        "insights_pipeline_job = rai_pipeline_nyc_taxi(\r\n",
        "    target_column_name=target_column_name,\r\n",
        "    train_data=programmers_train_mltable,\r\n",
        "    test_data=programmers_test_mltable\r\n",
        ")"
      ],
      "outputs": [],
      "execution_count": 74,
      "metadata": {
        "jupyter": {
          "source_hidden": false,
          "outputs_hidden": false
        },
        "nteract": {
          "transient": {
            "deleting": false
          }
        },
        "gather": {
          "logged": 1672477537347
        }
      }
    },
    {
      "cell_type": "code",
      "source": [
        "created_job = ml_client.jobs.create_or_update(insights_pipeline_job)"
      ],
      "outputs": [],
      "execution_count": 75,
      "metadata": {
        "jupyter": {
          "source_hidden": false,
          "outputs_hidden": false
        },
        "nteract": {
          "transient": {
            "deleting": false
          }
        },
        "gather": {
          "logged": 1672477540535
        }
      }
    },
    {
      "cell_type": "code",
      "source": [],
      "outputs": [],
      "execution_count": null,
      "metadata": {
        "jupyter": {
          "source_hidden": false,
          "outputs_hidden": false
        },
        "nteract": {
          "transient": {
            "deleting": false
          }
        }
      }
    }
  ],
  "metadata": {
    "kernelspec": {
      "name": "python310-sdkv2",
      "language": "python",
      "display_name": "Python 3.10 - SDK V2"
    },
    "language_info": {
      "name": "python",
      "version": "3.10.6",
      "mimetype": "text/x-python",
      "codemirror_mode": {
        "name": "ipython",
        "version": 3
      },
      "pygments_lexer": "ipython3",
      "nbconvert_exporter": "python",
      "file_extension": ".py"
    },
    "kernel_info": {
      "name": "python310-sdkv2"
    },
    "nteract": {
      "version": "nteract-front-end@1.0.0"
    },
    "microsoft": {
      "host": {
        "AzureML": {
          "notebookHasBeenCompleted": true
        }
      }
    }
  },
  "nbformat": 4,
  "nbformat_minor": 2
}