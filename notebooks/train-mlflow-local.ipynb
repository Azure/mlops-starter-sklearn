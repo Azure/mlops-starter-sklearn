{
 "cells": [
  {
   "cell_type": "code",
   "execution_count": null,
   "metadata": {},
   "outputs": [],
   "source": [
    "import argparse\n",
    "import os\n",
    "import shutil\n",
    "\n",
    "import matplotlib.pyplot as plt\n",
    "import mlflow\n",
    "import mlflow.sklearn\n",
    "import numpy as np\n",
    "import pandas as pd\n",
    "from pathlib import Path\n",
    "from sklearn.linear_model import LinearRegression\n",
    "from sklearn.metrics import mean_squared_error, r2_score\n",
    "from sklearn.model_selection import train_test_split"
   ]
  },
  {
   "cell_type": "code",
   "execution_count": null,
   "metadata": {},
   "outputs": [],
   "source": [
    "input_data = \"../data/raw/nyc_taxi_dataset.csv\"\n",
    "output_dir = \"outputs\"\n",
    "\n",
    "lines = [f\"学習データのパス: {input_data}\", f\"出力フォルダのパス: {output_dir}\"]\n",
    "\n",
    "for line in lines:\n",
    "    print(line)"
   ]
  },
  {
   "cell_type": "code",
   "execution_count": null,
   "metadata": {},
   "outputs": [],
   "source": [
    "# 自動ロギングの有効化\n",
    "mlflow.autolog(log_models=False)"
   ]
  },
  {
   "cell_type": "code",
   "execution_count": null,
   "metadata": {},
   "outputs": [],
   "source": [
    "# 学習データの読み込み\n",
    "df = pd.read_csv(input_data)"
   ]
  },
  {
   "cell_type": "code",
   "execution_count": null,
   "metadata": {},
   "outputs": [],
   "source": [
    "df.head()"
   ]
  },
  {
   "cell_type": "code",
   "execution_count": null,
   "metadata": {},
   "outputs": [],
   "source": [
    "# X, y の作成\n",
    "X = df.drop(columns=\"totalAmount\")\n",
    "y = df[\"totalAmount\"]\n",
    "\n",
    "# 学習データ、テストデータの分割\n",
    "X_train, X_test, y_train, y_test = train_test_split(\n",
    "    X, y, test_size=0.30, random_state=0\n",
    ")"
   ]
  },
  {
   "cell_type": "code",
   "execution_count": null,
   "metadata": {},
   "outputs": [],
   "source": [
    "# データのサンプル数のロギング\n",
    "mlflow.log_metric(\"Train samples\", len(X_train))\n",
    "\n",
    "# モデル学習\n",
    "model = LinearRegression().fit(X_train, y_train)"
   ]
  },
  {
   "cell_type": "code",
   "execution_count": null,
   "metadata": {},
   "outputs": [],
   "source": [
    "# データのサンプル数のロギング\n",
    "mlflow.log_metric(\"Test samples\", len(X_test))\n",
    "\n",
    "# モデル評価\n",
    "y_pred = model.predict(X_test)\n",
    "mse = mean_squared_error(y_test, y_pred)\n",
    "rmse = np.sqrt(mse)\n",
    "r2 = r2_score(y_test, y_pred)\n",
    "\n",
    "# 精度メトリックのロギング\n",
    "mlflow.log_metric(\"mse\", mse)\n",
    "mlflow.log_metric(\"rmse\", rmse)\n",
    "mlflow.log_metric(\"r2\", r2)"
   ]
  },
  {
   "cell_type": "code",
   "execution_count": null,
   "metadata": {},
   "outputs": [],
   "source": [
    "# outputs フォルダの作成\n",
    "os.makedirs(\"./outputs\", exist_ok=True)\n",
    "\n",
    "# 実測値と予測値のプロット\n",
    "plt.figure(figsize=(10, 7))\n",
    "plt.scatter(y_test, y_pred)\n",
    "plt.plot(y_test, y_test, color=\"r\")\n",
    "plt.title(\"Actual VS Predicted Values (Test set)\")\n",
    "plt.xlabel(\"Actual Values\")\n",
    "plt.ylabel(\"Predicted Values\")\n",
    "plt.savefig(\"./outputs/actuals_vs_predictions.png\")\n",
    "\n",
    "# プロット画像のロギング\n",
    "mlflow.log_artifact(\"./outputs/actuals_vs_predictions.png\")"
   ]
  },
  {
   "cell_type": "code",
   "execution_count": null,
   "metadata": {},
   "outputs": [],
   "source": [
    "# モデルの保存\n",
    "model_path = os.path.join(output_dir, \"models\")\n",
    "\n",
    "if Path(model_path).exists():\n",
    "    shutil.rmtree(model_path)\n",
    "else:\n",
    "    os.makedirs(model_path, exist_ok=True)\n",
    "\n",
    "mlflow.sklearn.save_model(model, model_path)"
   ]
  },
  {
   "cell_type": "code",
   "execution_count": null,
   "metadata": {},
   "outputs": [],
   "source": [
    "# MLflow UI の起動\n",
    "#!mlflow ui  --backend-store-uri ./mlruns"
   ]
  },
  {
   "cell_type": "code",
   "execution_count": null,
   "metadata": {},
   "outputs": [],
   "source": []
  }
 ],
 "metadata": {
  "kernelspec": {
   "display_name": "Python 3.8.13 ('mlops-train')",
   "language": "python",
   "name": "python3"
  },
  "language_info": {
   "codemirror_mode": {
    "name": "ipython",
    "version": 3
   },
   "file_extension": ".py",
   "mimetype": "text/x-python",
   "name": "python",
   "nbconvert_exporter": "python",
   "pygments_lexer": "ipython3",
   "version": "3.8.5"
  },
  "orig_nbformat": 4,
  "vscode": {
   "interpreter": {
    "hash": "74419d3d9274bcbfe6ecb9acd0596b867bc1ac63effdfbb8a6e0b958ebbd5c34"
   }
  }
 },
 "nbformat": 4,
 "nbformat_minor": 2
}
